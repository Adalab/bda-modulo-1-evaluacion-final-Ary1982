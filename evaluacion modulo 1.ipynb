{
 "cells": [
  {
   "cell_type": "markdown",
   "metadata": {},
   "source": [
    "EVALUACIÓN FINAL MODULO 1\n",
    "\n",
    "Ejercicio:\n",
    "\n",
    "Vamos a tener tres estructuras principales con las que vamos a trabajar:\n",
    "\n",
    "1. 'Inventario' (lista de diccionarios): Estructura para almacenar productos en el inventario. Cada producto debe ser representado como un\n",
    "diccionario con las siguientes claves: `'nombre'`, `'precio'`, y\n",
    "`'cantidad'`. Al principio deberá ser una lista vacía. Ejemplo de como\n",
    "debería ser:\n",
    "\n",
    "```python\n",
    " [{'nombre': 'Camisa', 'precio': 20, 'cantidad': 40},\n",
    " {'nombre': 'Pantalón', 'precio': 30, 'cantidad': 30}]\n",
    " ```\n",
    "\n",
    "2. 'Clientes' (diccionario): Estructura para llevar un registro de los clientes de la tienda. Cada cliente debe ser representado como un\n",
    "diccionario con las siguientes claves: `'nombre'` y `'email'`. Al inicio\n",
    "deberá ser un diccionario vacío. Además, cada cliente debe tener un\n",
    "historial de compras. Deberá parecerse a:\n",
    " ```python\n",
    " {'Cliente1': {'email': 'cliente1@email.com', 'compras': []},\n",
    " 'Cliente2': {'email': 'cliente2@email.com', 'compras': []}}\n",
    " ```\n",
    "\n",
    " 3. `ventas_totales` (float): Una variable para llevar un registro de las\n",
    "ventas totales de la tienda. Inicializalo con valor 0. \n",
    " \n"
   ]
  },
  {
   "cell_type": "markdown",
   "metadata": {},
   "source": [
    "**ITER:**\n",
    "\n",
    "~~ Crear una lista vacía de diccionarios llamada inventario.\n",
    "\n",
    "~~ Crear un diccionario vacío llamado clientes.\n",
    "\n",
    "~~ Crear una variable (float) llamada ventas totales, para llevar un registro de ventas."
   ]
  },
  {
   "cell_type": "code",
   "execution_count": 40,
   "metadata": {},
   "outputs": [
    {
     "name": "stdout",
     "output_type": "stream",
     "text": [
      "[{'name': 'Shirt', 'price': '24.50 $', 'amount': 100}, {'name': 'Pants', 'price': '34.90 $', 'amount': 50}, {'name': 'Jersey', 'price': '45.60 $', 'amount': 30}]\n"
     ]
    }
   ],
   "source": [
    "inventory = []\n",
    "customers = {}\n",
    "total_sales = 0.0\n",
    "\n",
    "# Añade productos a 'inventory'\n",
    "\n",
    "new_inventory = {'name': 'Shirt', 'price': '24.50 $', 'amount': 100}\n",
    "inventory.append(new_inventory)\n",
    "\n",
    "new_inventory2 = {'name': 'Pants', 'price': '34.90 $', 'amount': 50}\n",
    "inventory.append(new_inventory2)\n",
    "\n",
    "new_inventory3 = {'name': 'Jersey', 'price': '45.60 $', 'amount': 30}\n",
    "inventory.append(new_inventory3)\n",
    "print(inventory)\n"
   ]
  },
  {
   "cell_type": "code",
   "execution_count": 41,
   "metadata": {},
   "outputs": [
    {
     "name": "stdout",
     "output_type": "stream",
     "text": [
      "{'John Smith': {'email': 'johnsmith@gmail.com', 'shopping': []}}\n"
     ]
    }
   ],
   "source": [
    "# Añade clientes a 'customers'\n",
    "\n",
    "customers.update({'John Smith': {'email': 'johnsmith@gmail.com', 'shopping': []}})\n",
    "\n",
    "print(customers)\n"
   ]
  },
  {
   "cell_type": "code",
   "execution_count": 42,
   "metadata": {},
   "outputs": [
    {
     "name": "stdout",
     "output_type": "stream",
     "text": [
      "{'John Smith': {'email': 'johnsmith@gmail.com', 'shopping': []}, 'Ana Brown': {'email': 'anabrown@gmail.com', 'shopping': []}}\n"
     ]
    }
   ],
   "source": [
    "customers.update({'Ana Brown': {'email': 'anabrown@gmail.com', 'shopping': []}})\n",
    "print(customers)"
   ]
  },
  {
   "cell_type": "code",
   "execution_count": 43,
   "metadata": {},
   "outputs": [
    {
     "name": "stdout",
     "output_type": "stream",
     "text": [
      "{'John Smith': {'email': 'johnsmith@gmail.com', 'shopping': []}, 'Ana Brown': {'email': 'anabrown@gmail.com', 'shopping': []}, 'Mary White': {'email': 'marywhite@gmail.com', 'shopping': []}}\n"
     ]
    }
   ],
   "source": [
    "customers.update({'Mary White': {'email': 'marywhite@gmail.com', 'shopping': []}})\n",
    "print(customers)\n"
   ]
  },
  {
   "cell_type": "markdown",
   "metadata": {},
   "source": [
    "**Para iterar en 'inventory'** \n",
    "\n",
    "comparando el nombre del producto con el nombre proporcionado, voy a utilizar un bucle 'for', \n",
    "comparando el valor de la clave 'name' con el nombre insertado:"
   ]
  },
  {
   "cell_type": "code",
   "execution_count": 44,
   "metadata": {},
   "outputs": [
    {
     "name": "stdout",
     "output_type": "stream",
     "text": [
      "Product found: Shirt, Price: 24.50 $, Amount: 100\n"
     ]
    }
   ],
   "source": [
    "# Para encontrar un producto en el inventario, utilizamos el comando 'input'. \n",
    "# Hay que insertar un mensaje que aparezca a pantalla, para que el utente sepa lo que tiene que poner en el buscador:\n",
    "\n",
    "searched_name = input('Please, enter the product name you want to search for: ')\n",
    "\n",
    "found = False\n",
    "\n",
    "for product in inventory:\n",
    "    if product['name'].lower() == searched_name.lower():\n",
    "        print(f\"Product found: {product['name']}, Price: {product['price']}, Amount: {product['amount']}\")\n",
    "        found = True\n",
    "        break\n",
    "    \n",
    "if not found:\n",
    "    print('Product not found.')"
   ]
  },
  {
   "cell_type": "markdown",
   "metadata": {},
   "source": [
    "# Explicación proceso:\n",
    "\n",
    "Busqueda de producto en el inventario: creo una variable input con un mensaje (Por favor, inserta el nombre del articulo que buscas).\n",
    "\n",
    "Empezamos suponiendo que el producto no se ha encontrado, entonces creamos una variable que funcione como indicador (False), sería como declarar \"Todavía no se encontró este producto\".\n",
    "\n",
    "Construimos un bucle 'for' creando una variable temporal 'product' que itere (pase a reseña) en todo nuestro diccionario 'inventory'.\n",
    "\n",
    "Si 'product' es igual (==) al nombre insertado por el usuario en input, a pesar de no tener mayusculas (por eso hay que poner .lower), entonces se imprime a pantalla la frase: Producto encontrado: nombre producto, precio y cantidad.\n",
    "\n",
    "Declaramos entonces que el producto se ha encontrado (found =True) y cerramos con un break para que el bucle no siga inutilmente.\n",
    "\n",
    "Pero al contrario, si la palabra insertada por el usuario, no corresponde  a ningun producto en el inventario, entonces se imprime a pantalla el mensaje \"Product not found\".\n",
    "\n"
   ]
  }
 ],
 "metadata": {
  "kernelspec": {
   "display_name": "Python 3",
   "language": "python",
   "name": "python3"
  },
  "language_info": {
   "codemirror_mode": {
    "name": "ipython",
    "version": 3
   },
   "file_extension": ".py",
   "mimetype": "text/x-python",
   "name": "python",
   "nbconvert_exporter": "python",
   "pygments_lexer": "ipython3",
   "version": "3.12.6"
  }
 },
 "nbformat": 4,
 "nbformat_minor": 2
}
