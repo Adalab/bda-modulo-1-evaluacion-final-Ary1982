{
 "cells": [
  {
   "cell_type": "markdown",
   "metadata": {},
   "source": [
    "**EVALUACIÓN FINAL MODULO 1**\n",
    "\n",
    "Ejercicio:\n",
    "\n",
    "Vamos a tener tres estructuras principales con las que vamos a trabajar:\n",
    "\n",
    "1. 'Inventario' (lista de diccionarios): Estructura para almacenar productos en el inventario. Cada producto debe ser representado como un\n",
    "diccionario con las siguientes claves: `'nombre'`, `'precio'`, y\n",
    "`'cantidad'`. Al principio deberá ser una lista vacía. Ejemplo de como\n",
    "debería ser:\n",
    "\n",
    "```python\n",
    " [{'nombre': 'Camisa', 'precio': 20, 'cantidad': 40},\n",
    " {'nombre': 'Pantalón', 'precio': 30, 'cantidad': 30}]\n",
    " ```\n",
    "\n",
    "2. 'Clientes' (diccionario): Estructura para llevar un registro de los clientes de la tienda. Cada cliente debe ser representado como un\n",
    "diccionario con las siguientes claves: `'nombre'` y `'email'`. Al inicio\n",
    "deberá ser un diccionario vacío. Además, cada cliente debe tener un\n",
    "historial de compras. Deberá parecerse a:\n",
    " ```python\n",
    " {'Cliente1': {'email': 'cliente1@email.com', 'compras': []},\n",
    " 'Cliente2': {'email': 'cliente2@email.com', 'compras': []}}\n",
    " ```\n",
    "\n",
    " 3. `ventas_totales` (float): Una variable para llevar un registro de las\n",
    "ventas totales de la tienda. Inicializalo con valor 0. \n",
    " \n"
   ]
  },
  {
   "cell_type": "markdown",
   "metadata": {},
   "source": [
    "**PASOS A SEGUIR:**\n",
    "\n",
    "- Crear una lista vacía de diccionarios llamada inventario.\n",
    "\n",
    "- Crear un diccionario vacío llamado clientes.\n",
    "\n",
    "- Crear una variable (float) llamada ventas totales, para llevar un registro de ventas."
   ]
  },
  {
   "cell_type": "code",
   "execution_count": 176,
   "metadata": {},
   "outputs": [
    {
     "name": "stdout",
     "output_type": "stream",
     "text": [
      "[{'name': 'shirt', 'price': '24.50 $', 'quantity': 100}, {'name': 'pants', 'price': '34.90 $', 'quantity': 50}, {'name': 'jersey', 'price': '45.60 $', 'quantity': 30}]\n"
     ]
    }
   ],
   "source": [
    "# Creamos las tres estructuras con las que vamos a trabajar:\n",
    "\n",
    "inventory = []\n",
    "customers = {}\n",
    "total_sales = 0.0\n",
    "\n",
    "# 1. Añadimos productos a 'inventory'\n",
    "\n",
    "new_inventory = {'name': 'shirt', 'price': '24.50 $', 'quantity': 100}\n",
    "inventory.append(new_inventory)\n",
    "\n",
    "new_inventory2 = {'name': 'pants', 'price': '34.90 $', 'quantity': 50}\n",
    "inventory.append(new_inventory2)\n",
    "\n",
    "new_inventory3 = {'name': 'jersey', 'price': '45.60 $', 'quantity': 30}\n",
    "inventory.append(new_inventory3)\n",
    "print(inventory)\n"
   ]
  },
  {
   "cell_type": "code",
   "execution_count": 46,
   "metadata": {},
   "outputs": [
    {
     "name": "stdout",
     "output_type": "stream",
     "text": [
      "{'John Smith': {'email': 'johnsmith@gmail.com', 'shopping': []}}\n"
     ]
    }
   ],
   "source": [
    "# 2. Añadimos clientes a 'customers'\n",
    "\n",
    "customers.update({'John Smith': {'email': 'johnsmith@gmail.com', 'shopping': []}})\n",
    "\n",
    "print(customers)\n"
   ]
  },
  {
   "cell_type": "code",
   "execution_count": 177,
   "metadata": {},
   "outputs": [
    {
     "name": "stdout",
     "output_type": "stream",
     "text": [
      "{'Ana Brown': {'email': 'anabrown@gmail.com', 'shopping': []}}\n"
     ]
    }
   ],
   "source": [
    "customers.update({'Ana Brown': {'email': 'anabrown@gmail.com', 'shopping': []}})\n",
    "print(customers)"
   ]
  },
  {
   "cell_type": "code",
   "execution_count": 178,
   "metadata": {},
   "outputs": [
    {
     "name": "stdout",
     "output_type": "stream",
     "text": [
      "{'Ana Brown': {'email': 'anabrown@gmail.com', 'shopping': []}, 'Mary White': {'email': 'marywhite@gmail.com', 'shopping': []}}\n"
     ]
    }
   ],
   "source": [
    "customers.update({'Mary White': {'email': 'marywhite@gmail.com', 'shopping': []}})\n",
    "print(customers)\n"
   ]
  },
  {
   "cell_type": "code",
   "execution_count": 179,
   "metadata": {},
   "outputs": [
    {
     "name": "stdout",
     "output_type": "stream",
     "text": [
      "Product found: jersey, Price: 45.60 $, Quantity: 30\n"
     ]
    }
   ],
   "source": [
    "# Para encontrar un producto en el inventario, utilizamos el comando 'input'. \n",
    "# Busqueda de producto en el inventario: creo una variable input con un mensaje (Por favor, inserta el nombre del articulo que buscas).\n",
    "# Hay que insertar un mensaje que aparezca a pantalla, para que el utente sepa lo que tiene que poner en el buscador:\n",
    "\n",
    "searched_name = input('Please, enter the product name you want to search for: ')\n",
    "\n",
    "# Empezamos suponiendo que el producto no se ha encontrado, \n",
    "# entonces creamos una variable que funcione como indicador (False), sería como declarar \"Todavía no se encontró este producto\".\n",
    "found = False\n",
    "\n",
    "\n",
    "# Utilizo un bucle 'for' creando una variable temporal 'product' que itere (pase a reseña) en todo nuestro diccionario 'inventory'.\n",
    "\n",
    "for product in inventory:\n",
    "    \n",
    "# Si 'product' es igual (==) al nombre insertado por el usuario en input, a pesar de no tener mayusculas (por eso hay que poner .lower), \n",
    "# entonces se imprime a pantalla la frase: Producto encontrado: nombre producto, precio y cantidad.\n",
    "\n",
    "    if product['name'].lower() == searched_name.lower():\n",
    "        print(f\"Product found: {product['name']}, Price: {product['price']}, Quantity: {product['quantity']}\")\n",
    "        \n",
    "# Declaramos entonces que el producto se ha encontrado (found =True) y cerramos con un break para que el bucle no siga inutilmente.\n",
    "\n",
    "        found = True\n",
    "        break\n",
    "\n",
    "# Pero al contrario, si la palabra insertada por el usuario, no corresponde  a ningun producto en el inventario, entonces se imprime a pantalla el mensaje \"Product not found\".\n",
    "   \n",
    "if not found:\n",
    "    print('Product not found.')"
   ]
  },
  {
   "cell_type": "code",
   "execution_count": 181,
   "metadata": {},
   "outputs": [],
   "source": [
    "# 1.a. Como agregar un producto al inventario, y si ya existe, como actualizar la cantidad:\n",
    "\n",
    "# Recordamos el diccionario creado antes:\n",
    "\n",
    "inventory = [\n",
    "    {'name': 'shirt', 'price': '24.50 $', 'quantity': 100},\n",
    "    {'name': 'pants', 'price': '34.90 $', 'quantity': 50},\n",
    "    {'name': 'jersey', 'price': '45.60 $', 'quantity': 30},\n",
    "]\n",
    "\n",
    "# Definimos una función con tres paramentros (nombre, precio y cantidad):\n",
    "# La función empieza convirtiendo el nombre del producto en minusculas (nombre_lower) para agilizar la comparación (de esta manera el bucle ignora la diferencia entre mayusculas y minusculas).\n",
    "# Creamos una variable 'found' que al principio tiene un valor de 'False', esto sirve para chequear que el producto esté en el inventario.\n",
    "\n",
    "def add_inventory(nombre, precio, cantidad):\n",
    "    nombre_lower = nombre.lower()\n",
    "    found = False\n",
    "    \n",
    "# A partir de aquí la función empieza a pasar a reseña todos los productos del inventario.\n",
    "# Si encuentra un producto con el mismo nombre, actualiza la cantidad, restando, y cambiamos el valor de 'found' a 'True'.\n",
    "    \n",
    "    for product in inventory:\n",
    "        if product['name'].lower() == nombre_lower:\n",
    "            product['quantity'] -= cantidad\n",
    "            found = True\n",
    "            print(f\"Cantidad actualizada: {product['name']} ahora tiene {product['quantity']} unidades.\")\n",
    "            break\n",
    "\n",
    "# Esta parte del bucle se concluye imprimiendo a pantalla una frase con la cantidad actualizada de producto. Paramos el bucle con un break.\n",
    "    \n",
    "    if not found:\n",
    "        inventory.append({'name': nombre, 'price': precio, 'quantity': cantidad})\n",
    "        print(f\"{nombre} agregado al inventario con {cantidad} unidades y precio {precio}.\")\n",
    "        \n",
    "# Si el producto no se encuentra en el inventario, (ojo, aquí 'found' es 'False', porque estamos fuera del otro bucle) se añade un nuevo diccionario con nombre, precio y cantidad.\n",
    "# Aquí se imprime un mensaje a pantalla que nos dice que el nuevo producto ha sido añadido al inventario.\n"
   ]
  },
  {
   "cell_type": "code",
   "execution_count": 182,
   "metadata": {},
   "outputs": [
    {
     "name": "stdout",
     "output_type": "stream",
     "text": [
      "skirt agregado al inventario con 25 unidades y precio 23.50 $.\n"
     ]
    }
   ],
   "source": [
    "# Ejemplo de uso:\n",
    "\n",
    "# Quiero añadir una nueva falda llamada 'skirt', que tiene un precio de 23,50 $ y son 25 unidades.\n",
    "\n",
    "add_inventory('skirt', '23.50 $', 25) "
   ]
  },
  {
   "cell_type": "code",
   "execution_count": 194,
   "metadata": {},
   "outputs": [
    {
     "name": "stdout",
     "output_type": "stream",
     "text": [
      "Cantidad actualizada: pants ahora tiene 30 unidades.\n"
     ]
    }
   ],
   "source": [
    "# Si quiero actualizar un producto ya existente, tendré que llamar la función así:\n",
    "\n",
    "add_inventory('pants', '34.90 $', 4)"
   ]
  },
  {
   "cell_type": "code",
   "execution_count": 196,
   "metadata": {},
   "outputs": [
    {
     "name": "stdout",
     "output_type": "stream",
     "text": [
      "Cantidad actualizada: pants ahora tiene 80 unidades.\n"
     ]
    }
   ],
   "source": [
    "# esta función no me sirve si quiero incrementar la cantidad en el inventario, porque está hecha para restar el numero que insertamos de la cantidad total que tenemos en el inventario:\n",
    "\n",
    "add_inventory('pants', '34.90 $', 9)"
   ]
  },
  {
   "cell_type": "code",
   "execution_count": 198,
   "metadata": {},
   "outputs": [
    {
     "name": "stdout",
     "output_type": "stream",
     "text": [
      "Cantidad actualizada: pants ahora tiene 580 unidades.\n"
     ]
    }
   ],
   "source": [
    "# 1.b. Para aumentar la cantidad, debería sustituir \"-=\" con \"+=\". \n",
    "# Veamos esta función modificada:\n",
    "\n",
    "def add_inventory(nombre, precio, cantidad):\n",
    "    nombre_lower = nombre.lower()\n",
    "    found = False\n",
    "    \n",
    "\n",
    "    for product in inventory:\n",
    "        if product['name'].lower() == nombre_lower:\n",
    "            product['quantity'] += cantidad\n",
    "            found = True\n",
    "            print(f\"Cantidad actualizada: {product['name']} ahora tiene {product['quantity']} unidades.\")\n",
    "            break\n",
    "\n",
    "\n",
    "    if not found:\n",
    "        inventory.append({'name': nombre, 'price': precio, 'quantity': cantidad})\n",
    "        print(f\"{nombre} agregado al inventario con {cantidad} unidades y precio {precio}.\")\n",
    "        \n",
    "        \n",
    "add_inventory('pants', '34.90 $', 250)"
   ]
  },
  {
   "cell_type": "code",
   "execution_count": 199,
   "metadata": {},
   "outputs": [
    {
     "name": "stdout",
     "output_type": "stream",
     "text": [
      "Product inventory: \n",
      "Name: shirt, Price: 24.50 $, Quantity: 100\n",
      "Name: pants, Price: 34.90 $, Quantity: 580\n",
      "Name: jersey, Price: 45.60 $, Quantity: 30\n",
      "Name: skirt, Price: 23.50 $, Quantity: 25\n"
     ]
    }
   ],
   "source": [
    "# 2. Ahora queremos ver el inventario entero. lo hacemos con esta función:\n",
    "\n",
    "def show_inventory():\n",
    "    print(\"Product inventory: \")\n",
    "    \n",
    "    for product in inventory:\n",
    "        print(f\"Name: {product['name']}, Price: {product['price']}, Quantity: {product['quantity']}\")\n",
    "        \n",
    "show_inventory()"
   ]
  },
  {
   "cell_type": "code",
   "execution_count": 201,
   "metadata": {},
   "outputs": [],
   "source": [
    "# 3. Para buscar un producto en el inventario, utilizamos el comando 'input', como ya hice al principio. \n",
    "# Definisco la funcion 'search_product(nombre)' para buscar un producto por su nombre.\n",
    "\n",
    "def search_product(name):\n",
    "    found = False\n",
    "    \n",
    "    for product in inventory:\n",
    "        if product['name'].lower() == name.lower():\n",
    "            print(f\"Name: {product['name']}, Price: {product['price']}, Quantity: {product['quantity']}\")\n",
    "            found = True\n",
    "            break\n",
    "        \n",
    "    if not found:\n",
    "        print(f\"Product '{name}' not found.\")\n",
    "        \n"
   ]
  },
  {
   "cell_type": "code",
   "execution_count": 202,
   "metadata": {},
   "outputs": [
    {
     "name": "stdout",
     "output_type": "stream",
     "text": [
      "Name: pants, Price: 34.90 $, Quantity: 580\n"
     ]
    }
   ],
   "source": [
    "# Ejecuto la función insertando un nombre presente en el inventario:\n",
    "\n",
    "search_product('pants')"
   ]
  },
  {
   "cell_type": "code",
   "execution_count": 203,
   "metadata": {},
   "outputs": [
    {
     "name": "stdout",
     "output_type": "stream",
     "text": [
      "Product 'dress' not found.\n"
     ]
    }
   ],
   "source": [
    "# y luego intento insertar un articulo que no esté presente:\n",
    "\n",
    "search_product('dress')"
   ]
  },
  {
   "cell_type": "code",
   "execution_count": 204,
   "metadata": {},
   "outputs": [],
   "source": [
    "# 4. Actualizar stock(nombre, cantidad):\n",
    "\n",
    "def update_stock(name, quantity):\n",
    "    found = False\n",
    "    \n",
    "    for product in inventory:\n",
    "        if product['name'].lower() == name.lower():\n",
    "            product['quantity'] += quantity\n",
    "            found = True\n",
    "            if product['quantity'] < 0:\n",
    "                product['quantity'] = 0\n",
    "            print(f\"Update stock: {product['name']} now has {product['quantity']} unitits.\")\n",
    "            break\n",
    "        \n",
    "    if not found:\n",
    "        print(f\"The product '{name}' was not found in inventory\")\n",
    "\n"
   ]
  },
  {
   "cell_type": "code",
   "execution_count": 205,
   "metadata": {},
   "outputs": [
    {
     "name": "stdout",
     "output_type": "stream",
     "text": [
      "Update stock: pants now has 230 unitits.\n"
     ]
    }
   ],
   "source": [
    "# Vamos a probar la funcion con un producto que sabemos estar en el inventario:\n",
    "\n",
    "update_stock('pants', -350)"
   ]
  },
  {
   "cell_type": "code",
   "execution_count": 206,
   "metadata": {},
   "outputs": [
    {
     "name": "stdout",
     "output_type": "stream",
     "text": [
      "The product 'dress' was not found in inventory\n"
     ]
    }
   ],
   "source": [
    "# Y ahora probamos con un nombre que no esté:\n",
    "\n",
    "update_stock('dress', -35)"
   ]
  },
  {
   "cell_type": "code",
   "execution_count": 86,
   "metadata": {},
   "outputs": [],
   "source": [
    "# 5. Eliminamos un producto del inventario por su nombre:\n",
    "# la función es parecida a las anteriores, pero voy a aplicar el remove en el inventario, especificando el nombre del producto.\n",
    "\n",
    "def delete_product(name):\n",
    "    found =False\n",
    "    \n",
    "    \n",
    "    for product in inventory:\n",
    "        if product['name'].lower() == name.lower():\n",
    "            inventory.remove(product)\n",
    "            found = True\n",
    "        \n",
    "            print(f\"Product deleted: {product['name']}\")\n",
    "            break\n",
    "        \n",
    "    if not found:\n",
    "        print(f\"The product '{name}' was not found in inventory\")\n",
    "\n",
    "\n",
    "\n"
   ]
  },
  {
   "cell_type": "code",
   "execution_count": 87,
   "metadata": {},
   "outputs": [
    {
     "name": "stdout",
     "output_type": "stream",
     "text": [
      "Product deleted: Pants\n"
     ]
    }
   ],
   "source": [
    "delete_product('pants')"
   ]
  },
  {
   "cell_type": "code",
   "execution_count": 89,
   "metadata": {},
   "outputs": [
    {
     "name": "stdout",
     "output_type": "stream",
     "text": [
      "Product inventory: \n",
      "Name: Shirt, Price: 24.50 $, Quantity: 100\n",
      "Name: Jersey, Price: 45.60 $, Quantity: 30\n",
      "Name: skirt, Price: 23.50 $, Quantity: 25\n"
     ]
    }
   ],
   "source": [
    "show_inventory()"
   ]
  },
  {
   "cell_type": "code",
   "execution_count": 99,
   "metadata": {},
   "outputs": [
    {
     "name": "stdout",
     "output_type": "stream",
     "text": [
      "The total value of inventory is: 4405.50 $\n"
     ]
    }
   ],
   "source": [
    "# 6.Calcular y mostrar el valor total del inventario.\n",
    "# - Utilizar un bucle for para calcular el valor total del inventario\n",
    "# -iterar s traves del inventario y sumar el valor de cada producto (precio x cantidad).\n",
    "\n",
    "# Copio el inventario en forma de diccionario y borro el simbolo del $, porque necesito todos los valores numericos.\n",
    "\n",
    "inventory = {'Shirt': {'price': 24.50, 'quantity': 100}, 'Jersey': {'price': 45.60, 'quantity': 30}, 'skirt': {'price': 23.50, 'quantity': 25}}\n",
    "\n",
    "# inicializo una variable para el total con valor = 0, la usaré para sumar el valor total de los productos.\n",
    "\n",
    "total_value = 0\n",
    "\n",
    "# uso un bucle for para 'mirar' (iterar) cada producto del inventario, product representa el producto del inventario y detail representa los valores de precio y cantidad.\n",
    "# para ver todos los pares de clave (product) y valor (details, que en este caso son precio y cantidad), utilizo el metodo .items()\n",
    "# aplico el metodo 'items' para que me devuelva tuplas que pueda multiplicar entre ellas\n",
    "\n",
    "for product, details in inventory.items():\n",
    "    product_value = (details['price']) * (details['quantity'])\n",
    "    \n",
    "    total_value += product_value\n",
    "    \n",
    "print(f\"The total value of inventory is: {total_value:.2f} $\")"
   ]
  },
  {
   "cell_type": "code",
   "execution_count": 213,
   "metadata": {},
   "outputs": [
    {
     "name": "stdout",
     "output_type": "stream",
     "text": [
      "Product inventory: \n",
      "Name: shirt, Price: 24.50 $, Quantity: 100\n",
      "Name: skirt, Price: 23.50 $, Quantity: 25\n",
      "Name: jersey, Price: 45.60 $, Quantity: 30\n"
     ]
    }
   ],
   "source": [
    "# 7. Realizar una compra: un cliente realiza una compra, seleccionando productos del inventario.\n",
    "# Es necesario interactuar con el cliente para seleccionar productos y calcular el costo total de la compra.\n",
    "\n",
    "# Primero mostramos el inventario al cliente para que pueda elegir:\n",
    "\n",
    "\n",
    "inventory = [\n",
    "    {'name': 'shirt', 'price': '24.50 $', 'quantity': 100},\n",
    "    {'name': 'skirt', 'price': '23.50 $', 'quantity': 25},\n",
    "    {'name': 'jersey', 'price': '45.60 $', 'quantity': 30},\n",
    "]\n",
    "        \n",
    "show_inventory()\n",
    "\n",
    "\n"
   ]
  },
  {
   "cell_type": "code",
   "execution_count": 214,
   "metadata": {},
   "outputs": [
    {
     "name": "stdout",
     "output_type": "stream",
     "text": [
      "Producto: shirt, Precio: 24.5\n",
      "Producto: skirt, Precio: 23.5\n",
      "Producto: jersey, Precio: 45.6\n"
     ]
    }
   ],
   "source": [
    "# Convertimos precios de string a float,\n",
    "# definendo la funcion 'convert_price' con el parametro 'inventory':\n",
    "\n",
    "def convert_price(inventory):\n",
    "        \n",
    "    for conv in inventory:\n",
    "        # obtener precio como string:\n",
    "        price_str = conv['price']\n",
    "        \n",
    "        #limpiamos el string: quitamos el simbolo de $ y quitamos los espacios:\n",
    "        price_clean = price_str.replace('$', '').strip()\n",
    "\n",
    "        # Convertimos a float:\n",
    "        conv['price'] = float(price_clean)\n",
    " \n",
    " \n",
    "# Llamamos a la función:       \n",
    "convert_price(inventory)\n",
    "\n",
    "# Ahora podemos imprimir el inventario con los precios convertidos en float:\n",
    "for conv in inventory:\n",
    "    print(f\"Producto: {conv['name']}, Precio: {conv['price']}\")\n",
    "        \n"
   ]
  },
  {
   "cell_type": "code",
   "execution_count": 217,
   "metadata": {},
   "outputs": [
    {
     "name": "stdout",
     "output_type": "stream",
     "text": [
      "Producto: shirt, Precio: 24.5\n",
      "Producto: skirt, Precio: 23.5\n",
      "Producto: jersey, Precio: 45.6\n"
     ]
    }
   ],
   "source": [
    "for conv in inventory:\n",
    "    print(f\"Producto: {conv['name']}, Precio: {conv['price']}\")"
   ]
  },
  {
   "cell_type": "code",
   "execution_count": 210,
   "metadata": {},
   "outputs": [],
   "source": [
    "cart = {}"
   ]
  },
  {
   "cell_type": "code",
   "execution_count": 211,
   "metadata": {},
   "outputs": [
    {
     "data": {
      "text/plain": [
       "[{'name': 'shirt', 'price': 24.5, 'quantity': 100},\n",
       " {'name': 'skirt', 'price': 23.5, 'quantity': 25},\n",
       " {'name': 'jersey', 'price': 45.6, 'quantity': 30}]"
      ]
     },
     "execution_count": 211,
     "metadata": {},
     "output_type": "execute_result"
    }
   ],
   "source": [
    "inventory"
   ]
  },
  {
   "cell_type": "code",
   "execution_count": 221,
   "metadata": {},
   "outputs": [],
   "source": [
    "# Usamos un bucle 'while' para permitir al cliente realizar multiples compras:\n",
    "\n",
    "def make_purchase():\n",
    "    # cart = {}\n",
    "    total_purchase = 0\n",
    "    \n",
    "    while True:\n",
    "        show_inventory()\n",
    "        \n",
    "        # Solicitamos al cliente que inserte el producto que quiere comprar:\n",
    "        product = input(\"Please, enter the name of the product you want to purchase (or 'exit' to finish)\").lower()\n",
    "        \n",
    "    \n",
    "        if product == 'exit':\n",
    "            print(\"Thank you, we hope to see again soon.\")\n",
    "            return\n",
    "        \n",
    "        # comprobar que el producto esté en el inventario:\n",
    "    \n",
    "        for p in inventory:\n",
    "           \n",
    "            if p['name'] == product:\n",
    "                \n",
    "                cantidad = int(input(f\"Enter the quantity of {product} you want to purchase: \"))\n",
    "                if cantidad <= p['quantity']:\n",
    "                    cost_product = p['price'] * cantidad\n",
    "                    \n",
    "                    total_purchase += cost_product\n",
    "                    \n",
    "                    p['quantity'] -= cantidad\n",
    "                    \n",
    "                    cart[product] = {'price': p['price'], 'quantity': cantidad}\n",
    "                    print(f\"{cantidad} {product} have been added to the cart. Total cost so far: {total_purchase:.2f} $\")\n",
    "                    opcion = input(\"Select 'Yes' if you want to continue purchase or 'not' if you want finish\")\n",
    "                    if opcion == 'Yes': \n",
    "                        continue\n",
    "                    else:\n",
    "                        print(f\"Summary of your purchase: {cart}\")\n",
    "                        \n",
    "                        for clave, valor in cart.items():\n",
    "                            print(f\"Product: {clave}, Price: {valor['price']}, Quantity: {valor['quantity']}, Total value: {cost_product}\")\n",
    "                        print(f\"Total cost of purchase: {total_purchase} $\")\n",
    "                        return\n",
    "                else:\n",
    "                    print(f\"There is not enough {product}. Available quantity: {p['quantity']}\")\n",
    "                    return\n",
    "    \n",
    "        print(f\"The product '{product}' is not in inventory.\")\n",
    "    \n",
    " \n",
    "    "
   ]
  },
  {
   "cell_type": "code",
   "execution_count": 222,
   "metadata": {},
   "outputs": [
    {
     "data": {
      "text/plain": [
       "{'skirt': {'price': 23.5, 'quantity': 2}}"
      ]
     },
     "execution_count": 222,
     "metadata": {},
     "output_type": "execute_result"
    }
   ],
   "source": [
    "cart"
   ]
  },
  {
   "cell_type": "code",
   "execution_count": 223,
   "metadata": {},
   "outputs": [
    {
     "name": "stdout",
     "output_type": "stream",
     "text": [
      "Product inventory: \n",
      "Name: shirt, Price: 24.5, Quantity: 100\n",
      "Name: skirt, Price: 23.5, Quantity: 23\n",
      "Name: jersey, Price: 45.6, Quantity: 30\n",
      "1 shirt have been added to the cart. Total cost so far: 24.50 $\n",
      "Summary of your purchase: {'skirt': {'price': 23.5, 'quantity': 2}, 'shirt': {'price': 24.5, 'quantity': 1}}\n",
      "Product: skirt, Price: 23.5, Quantity: 2, Total value: 24.5\n",
      "Product: shirt, Price: 24.5, Quantity: 1, Total value: 24.5\n",
      "Total cost of purchase: 24.5 $\n"
     ]
    }
   ],
   "source": [
    "make_purchase()"
   ]
  },
  {
   "cell_type": "code",
   "execution_count": 231,
   "metadata": {},
   "outputs": [
    {
     "name": "stdout",
     "output_type": "stream",
     "text": [
      "El importe pagado es inferior al total, por favor, inserte un importe suficiente.\n"
     ]
    }
   ],
   "source": [
    "# 8. Como procesar pago de una compra, calcular el cambio y mostrar mensaje de confirmación:\n",
    "# utilizar try y except\n",
    "\n",
    "total_purchase = 24.5\n",
    "\n",
    "def pay_cart(total_purchase):\n",
    "    \n",
    "    try:\n",
    "        pagamento = float(input(f'Introduce importe para pagar: '))\n",
    "        if pagamento < total_purchase:\n",
    "            print(\"El importe pagado es inferior al total, por favor, inserte un importe suficiente.\")\n",
    "        else:\n",
    "            cambio = pagamento - total_purchase\n",
    "            print(f\"¡Pago aceptado! Su cambio es: {cambio} $. ¡Muchas gracias y hasta pronto!\")\n",
    "             \n",
    "# Por si insertan string:\n",
    "   \n",
    "    except ValueError:\n",
    "        print(\"Error: Por favor, inserte un numero valido\")\n",
    "    \n",
    "\n",
    "pay_cart(total_purchase)    \n"
   ]
  }
 ],
 "metadata": {
  "kernelspec": {
   "display_name": "Python 3",
   "language": "python",
   "name": "python3"
  },
  "language_info": {
   "codemirror_mode": {
    "name": "ipython",
    "version": 3
   },
   "file_extension": ".py",
   "mimetype": "text/x-python",
   "name": "python",
   "nbconvert_exporter": "python",
   "pygments_lexer": "ipython3",
   "version": "3.12.6"
  }
 },
 "nbformat": 4,
 "nbformat_minor": 2
}
